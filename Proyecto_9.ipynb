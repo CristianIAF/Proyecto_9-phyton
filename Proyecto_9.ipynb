{
  "nbformat": 4,
  "nbformat_minor": 0,
  "metadata": {
    "colab": {
      "provenance": []
    },
    "kernelspec": {
      "name": "python3",
      "display_name": "Python 3"
    },
    "language_info": {
      "name": "python"
    }
  },
  "cells": [
    {
      "cell_type": "markdown",
      "source": [
        "######9 - En una elección para la gerencia de una empresa con 20 empleados, hay cuatro candidatos. Escribe un programa que calcule al ganador de la elección. La votación se realizó de la siguiente manera:\n",
        "\n",
        "Cada empleado votó por uno de los cuatro candidatos (representados por los números 1, 2, 3 y 4).\n",
        "\n",
        "También se contaron los votos nulos (representados por el número 5) y los votos en blanco (representados por el número 6).\n",
        "\n",
        "Al final de la votación, el programa debe mostrar el número total de votos para cada candidato, los votos nulos y los votos en blanco. Además, debe calcular y mostrar el porcentaje de votos nulos con respecto al total de votos y el porcentaje de votos en blanco con respecto al total de votos."
      ],
      "metadata": {
        "id": "-vujlHtV9QVr"
      }
    },
    {
      "cell_type": "markdown",
      "source": [
        "* Se inicializan los contadores"
      ],
      "metadata": {
        "id": "w6bcRgG2R2-2"
      }
    },
    {
      "cell_type": "code",
      "source": [
        "contador_1 = 0\n",
        "contador_2 = 0\n",
        "contador_3 = 0\n",
        "contador_4 = 0\n",
        "contador_5 = 0\n",
        "contador_6 = 0\n",
        "\n"
      ],
      "metadata": {
        "id": "UAK1mym5KQTw"
      },
      "execution_count": 24,
      "outputs": []
    },
    {
      "cell_type": "code",
      "source": [
        "for i in range(20):\n",
        "  #################################################################\n",
        "  # Este ciclo \"while True\", le solicita al usuario un valor que lo almacene en la variable \"voto\" y con \"try\" and \"except\", verifica que este dato no sea un string.\n",
        "  # Si el dato no es un string, se rompe el ciclo \"while True\" y continúa con la ejecución del siguiente ciclo.\n",
        "  #################################################################\n",
        "  while True:\n",
        "    try:\n",
        "      voto = int(input(\"Ingrese su voto (1-6): \"))\n",
        "      break\n",
        "    except ValueError:\n",
        "      print(\"Entrada inválida. Ingrese un número entero válido.\")\n",
        "      continue\n",
        "  #################################################################\n",
        "  # El ciclo \"while\" define de dónde hasta dónde va el parametro de elección del usuario, de ser verdadera la condición se imprime \"Entrada inválida y obliga al usuario\n",
        "  # que ingrese una vez más un número entero válido.\n",
        "\n",
        "  # El ciclo \"while True\", le solicita al usuario un valor que lo almacene en la variable \"voto\" y con \"try\" and \"except\", se verifica que este dato no sea un string.\n",
        "  # Si \"Try\"no falla o no se genera el error, se va nuevamente a la condición \"while\" y si el \"try\" falla se va al \"except ValueError\" y al \"continue\" y a su vez éste se vaya\n",
        "  # al \"while True\"\n",
        "  # Si el dato no es un string, se rompe el ciclo \"while True\" y continúa con la ejecución del siguiente ciclo.\n",
        "  #################################################################\n",
        "  while (voto < 1) or (voto > 6):\n",
        "    print(\"Entrada inválida. Ingrese un número entero válido.\")\n",
        "    while True:\n",
        "      try:\n",
        "        voto = int(input(\"Ingrese su voto (1-6): \"))\n",
        "        break\n",
        "      except ValueError:\n",
        "        print(\"Entrada inválida. Ingrese un número entero válido.\")\n",
        "        continue\n",
        "  #################################################################\n",
        "  # Aquí se va acumulando, según el voto ingresado por el usuario.\n",
        "  #################################################################\n",
        "\n",
        "  if voto == 1:\n",
        "    contador_1 += 1\n",
        "  elif voto == 2:\n",
        "    contador_2 += 1\n",
        "  elif voto == 3:\n",
        "    contador_3 += 1\n",
        "  elif voto == 4:\n",
        "    contador_4 += 1\n",
        "  elif voto == 5:\n",
        "    contador_5 += 1\n",
        "  elif voto == 6:\n",
        "    contador_6 += 1"
      ],
      "metadata": {
        "colab": {
          "base_uri": "https://localhost:8080/"
        },
        "id": "c1KLFKEI9UbK",
        "outputId": "dd3fd108-1c7f-41c4-e33d-242b9af3a786"
      },
      "execution_count": 25,
      "outputs": [
        {
          "name": "stdout",
          "output_type": "stream",
          "text": [
            "Ingrese su voto (1-6): 3\n",
            "Ingrese su voto (1-6): 4\n",
            "Ingrese su voto (1-6): 5\n",
            "Ingrese su voto (1-6): 2\n",
            "Ingrese su voto (1-6): 1\n",
            "Ingrese su voto (1-6): 3\n",
            "Ingrese su voto (1-6): 2\n",
            "Ingrese su voto (1-6): 1\n",
            "Ingrese su voto (1-6): 6\n",
            "Ingrese su voto (1-6): 4\n",
            "Ingrese su voto (1-6): 3\n",
            "Ingrese su voto (1-6): \n",
            "Entrada inválida. Ingrese un número entero válido.\n",
            "Ingrese su voto (1-6): 2\n",
            "Ingrese su voto (1-6): 3\n",
            "Ingrese su voto (1-6): 1\n",
            "Ingrese su voto (1-6): 2\n",
            "Ingrese su voto (1-6): 5\n",
            "Ingrese su voto (1-6): 3\n",
            "Ingrese su voto (1-6): 4\n",
            "Ingrese su voto (1-6): 2\n",
            "Ingrese su voto (1-6): 1\n"
          ]
        }
      ]
    },
    {
      "cell_type": "code",
      "source": [
        "print(f\"Total de votos candidato 1: {contador_1}\")\n",
        "print(f\"Total de votos candidato 2: {contador_2}\")\n",
        "print(f\"Total de votos candidato 3: {contador_3}\")\n",
        "print(f\"Total de votos candidato 4: {contador_4}\")"
      ],
      "metadata": {
        "colab": {
          "base_uri": "https://localhost:8080/"
        },
        "id": "t8G8uscGVKCC",
        "outputId": "0c240bba-756a-4b17-b789-60fa354ed794"
      },
      "execution_count": 26,
      "outputs": [
        {
          "output_type": "stream",
          "name": "stdout",
          "text": [
            "Total de votos candidato 1: 4\n",
            "Total de votos candidato 2: 5\n",
            "Total de votos candidato 3: 5\n",
            "Total de votos candidato 4: 3\n"
          ]
        }
      ]
    },
    {
      "cell_type": "code",
      "source": [
        "print(f\"Total de votos nulos: {contador_5}\")\n",
        "print(f\"Total de votos en blanco: {contador_6}\")"
      ],
      "metadata": {
        "colab": {
          "base_uri": "https://localhost:8080/"
        },
        "id": "jlyi3tAQVaI5",
        "outputId": "423df315-db54-417b-c989-a5d5ff08fb55"
      },
      "execution_count": 27,
      "outputs": [
        {
          "output_type": "stream",
          "name": "stdout",
          "text": [
            "Total de votos nulos: 2\n",
            "Total de votos en blanco: 1\n"
          ]
        }
      ]
    },
    {
      "cell_type": "code",
      "source": [
        "print(f\"El Porcentaje de votos blancos es: {contador_5/20*100}%\")\n",
        "print(f\"El Porcentaje de votos nulos es: {contador_6/20*100}%\")"
      ],
      "metadata": {
        "colab": {
          "base_uri": "https://localhost:8080/"
        },
        "id": "FsulVgHfVq5C",
        "outputId": "61fde05b-36af-4c52-8842-ca843542d52e"
      },
      "execution_count": 28,
      "outputs": [
        {
          "output_type": "stream",
          "name": "stdout",
          "text": [
            "El Porcentaje de votos blancos es: 10.0%\n",
            "El Porcentaje de votos nulos es: 5.0%\n"
          ]
        }
      ]
    }
  ]
}